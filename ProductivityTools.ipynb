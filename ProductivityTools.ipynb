{
  "nbformat": 4,
  "nbformat_minor": 0,
  "metadata": {
    "colab": {
      "provenance": [],
      "toc_visible": true,
      "authorship_tag": "ABX9TyN4KBdixVvajkrTm9S85CMo",
      "include_colab_link": true
    },
    "kernelspec": {
      "name": "python3",
      "display_name": "Python 3"
    },
    "language_info": {
      "name": "python"
    }
  },
  "cells": [
    {
      "cell_type": "markdown",
      "metadata": {
        "id": "view-in-github",
        "colab_type": "text"
      },
      "source": [
        "<a href=\"https://colab.research.google.com/github/stevenkhwun/Data/blob/main/ProductivityTools.ipynb\" target=\"_parent\"><img src=\"https://colab.research.google.com/assets/colab-badge.svg\" alt=\"Open In Colab\"/></a>"
      ]
    },
    {
      "cell_type": "markdown",
      "source": [
        "# Productivity Tools on Internet\n",
        "\n",
        "This notebook contains some productivity tools on Internet."
      ],
      "metadata": {
        "id": "JuWAIKBt8820"
      }
    },
    {
      "cell_type": "markdown",
      "source": [
        "## [nbviewer](https://nbviewer.org/)\n",
        "\n",
        "[nbviewer](https://nbviewer.org/) is a web application that lets you enter the URL of a Jupyter Notebook file, renders that notebook as a static HTML web page, and gives you a stable link to that page which you can share with others. [nbviewer](https://nbviewer.org/) also supports browsing collections of notebooks (e.g., in a GitHub repository) and rendering notebooks in other formats (e.g., slides, scripts).\n",
        "\n",
        "The following is an example of a static HTML webpage rendered by [nbviewer](https://nbviewer.org/).\n",
        "\n",
        "[Machine Learning](https://nbviewer.org/github/stevenkhwun/P4DS/blob/main/Chp51_MachineLearning.ipynb)"
      ],
      "metadata": {
        "id": "5tznv7xd9KZa"
      }
    }
  ]
}